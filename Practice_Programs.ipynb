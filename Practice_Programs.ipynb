{
 "cells": [
  {
   "cell_type": "markdown",
   "id": "adc21520",
   "metadata": {},
   "source": [
    "# Practice Programs"
   ]
  },
  {
   "cell_type": "markdown",
   "id": "1de92a32",
   "metadata": {},
   "source": [
    "### 1. Python program to generate nth decimal of Pi."
   ]
  },
  {
   "cell_type": "code",
   "execution_count": 27,
   "id": "b0e8a5fd",
   "metadata": {},
   "outputs": [
    {
     "name": "stdout",
     "output_type": "stream",
     "text": [
      "This program generates value of Pi to nth decimal\n",
      "\n",
      "Enter the nth decimal\n",
      "25\n",
      "The value of Pi to 25 decimal places is 3.1428571428571427937015414.\n"
     ]
    }
   ],
   "source": [
    "print(\"This program generates value of Pi to nth decimal\\n\")\n",
    "n = int(input(\"Enter the nth decimal\\n\"))\n",
    "pi = 22/7\n",
    "print('The value of Pi to {} decimal places is {:.{}f}.'.format(n,pi,n))"
   ]
  },
  {
   "cell_type": "markdown",
   "id": "b07e4bd8",
   "metadata": {},
   "source": [
    "### 2. Python program to get the value of 'e' to n decimal place."
   ]
  },
  {
   "cell_type": "code",
   "execution_count": 24,
   "id": "d438522e",
   "metadata": {},
   "outputs": [
    {
     "name": "stdout",
     "output_type": "stream",
     "text": [
      "This program generates value of 'e' to n decimal places\n",
      "\n",
      "Enter the nth digit\n",
      "40\n",
      "The value of e to 40 decimal places is 2.7182818284590450907955982984276488423347.\n"
     ]
    }
   ],
   "source": [
    "print(\"This program generates value of 'e' to n decimal places\\n\")\n",
    "n = int(input(\"Enter the nth digit\\n\"))\n",
    "import math\n",
    "print('The value of e to {} decimal places is {:.{}f}.'.format(n,math.e,n))"
   ]
  },
  {
   "cell_type": "markdown",
   "id": "2b2f3543",
   "metadata": {},
   "source": [
    "### 3. Python Program to guess a no. selected randomly"
   ]
  },
  {
   "cell_type": "code",
   "execution_count": 44,
   "id": "f6dfd055",
   "metadata": {},
   "outputs": [
    {
     "name": "stdout",
     "output_type": "stream",
     "text": [
      "Welcome to this guessing game\n",
      "\n",
      "\n",
      "I've thought of a number from 1-9 can you guess?\n",
      "\n",
      "Enter your guess:\n",
      "5\n",
      "You guessed too high.\n",
      "Enter your guess:\n",
      "2\n",
      "You guessed right!!!\n"
     ]
    }
   ],
   "source": [
    "import numpy as np\n",
    "print(\"Welcome to this guessing game\\n\\n\")\n",
    "x = int(np.random.randint(1,10,1))\n",
    "print(\"I've thought of a number from 1-9 can you guess?\\n\")\n",
    "guess=0\n",
    "while guess!=x:\n",
    "    guess=int(input(\"Enter your guess:\\n\"))\n",
    "    if guess==x:\n",
    "        print(\"You guessed right!!!\")\n",
    "        break\n",
    "    elif guess>x:\n",
    "        print(\"You guessed too high.\")\n",
    "    else:\n",
    "        print(\"You guessed too low.\")"
   ]
  },
  {
   "cell_type": "markdown",
   "id": "b92d8320",
   "metadata": {},
   "source": [
    "### 4. Python Program to print every line of 99 bottles of beer on the ball.\n"
   ]
  },
  {
   "cell_type": "code",
   "execution_count": 45,
   "id": "775ef66d",
   "metadata": {},
   "outputs": [],
   "source": []
  },
  {
   "cell_type": "code",
   "execution_count": null,
   "id": "a82be1f9",
   "metadata": {},
   "outputs": [],
   "source": []
  }
 ],
 "metadata": {
  "kernelspec": {
   "display_name": "Python 3",
   "language": "python",
   "name": "python3"
  },
  "language_info": {
   "codemirror_mode": {
    "name": "ipython",
    "version": 3
   },
   "file_extension": ".py",
   "mimetype": "text/x-python",
   "name": "python",
   "nbconvert_exporter": "python",
   "pygments_lexer": "ipython3",
   "version": "3.8.8"
  }
 },
 "nbformat": 4,
 "nbformat_minor": 5
}
